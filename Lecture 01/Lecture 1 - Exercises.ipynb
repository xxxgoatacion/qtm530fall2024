{
 "cells": [
  {
   "attachments": {},
   "cell_type": "markdown",
   "metadata": {},
   "source": [
    "# Lecture 1 Exercises"
   ]
  },
  {
   "cell_type": "markdown",
   "metadata": {},
   "source": [
    "\n",
    "\n",
    "## Short Questions\n",
    "\n",
    "<font size = \"5\">\n",
    "\n",
    "1. What is the difference between a list and an array?\n",
    "2. Consider the list <br>\n",
    "\n",
    "```list_colors = [\"red\",\"yellow\",\"green\"]``` <br>\n",
    "\n",
    "What is the output of ```list_colors[0]``` and <br>\n",
    "```list_colors[1]```?\n",
    "\n",
    "3. How do you concatenate two strings? \n",
    "4. What does the error \"not defined\" mean?\n",
    "5. What does the error \"could not be broadcast\" mean?\n",
    "6. How do you compute the median of an array?\n"
   ]
  },
  {
   "cell_type": "code",
   "execution_count": null,
   "metadata": {},
   "outputs": [],
   "source": [
    "# Write your answers here as comments:\n",
    "# 1. List is a built-in Python data type, array is a multi-dimensional array.\n",
    "# 2. list_colors[0]= red, list_colors[1]= yellow.\n",
    "# 3. just use the '+', like string = string1 + string2 .\n",
    "# 4. That means you are using a variable or function that you haven't defined before.\n",
    "# 5. That is because the array's dimensions are violating to the calculating rules.\n",
    "# 6. Using np.median().\n"
   ]
  },
  {
   "cell_type": "markdown",
   "metadata": {},
   "source": [
    "\n",
    "\n",
    "## Long Questions"
   ]
  },
  {
   "attachments": {},
   "cell_type": "markdown",
   "metadata": {},
   "source": [
    "<font size = \"5\">\n",
    "\n",
    "(a) Import the pandas, matplotlib, and numpy packages"
   ]
  },
  {
   "cell_type": "code",
   "execution_count": 16,
   "metadata": {},
   "outputs": [],
   "source": [
    "# Write your own code\n",
    "import pandas as pd\n",
    "import matplotlib.pyplot as plt\n",
    "\n"
   ]
  },
  {
   "attachments": {},
   "cell_type": "markdown",
   "metadata": {},
   "source": [
    "<font size = \"5\">\n",
    "\n",
    "(b) Open the dataset \"worldbank_wdi_2019.csv\" <br>\n",
    "in the \"data\" folder\n",
    "\n",
    "<font size = \"3\">\n",
    "\n",
    "- Read it as a pandas object called \"wdi\"\n",
    "- Note: This is a subset of the World Development Indicators for 2019\n",
    "- Each observation represents a different country"
   ]
  },
  {
   "cell_type": "code",
   "execution_count": 5,
   "metadata": {},
   "outputs": [],
   "source": [
    "# Write your own code\n",
    "wdi = pd.read_csv('data/worldbank_wdi_2019.csv')\n",
    "\n"
   ]
  },
  {
   "attachments": {},
   "cell_type": "markdown",
   "metadata": {},
   "source": [
    "<font size = \"5\">\n",
    "\n",
    "(c) Browse the dataset and manually create <br>\n",
    "a list of variable names\n",
    "\n"
   ]
  },
  {
   "cell_type": "code",
   "execution_count": 12,
   "metadata": {},
   "outputs": [
    {
     "data": {
      "text/plain": [
       "'gdp_per_capita_usd'"
      ]
     },
     "execution_count": 12,
     "metadata": {},
     "output_type": "execute_result"
    }
   ],
   "source": [
    "# Write your own code\n",
    "\n",
    "# Create a list, e.g. \"variable_names = [ \"name1\", \"name2\", \"name3\" ]\"\n",
    "# Manually type the names of the variables\n",
    "# If you're viewing the dataset from the VS-Code \"Variables\" tool, you'll\n",
    "# see an extra column \"index\". Do not include this in your list.\n",
    "wdi\n",
    "variable_names = [ \"year\", \"country_name\", \"life_expectancy\",\"gdp_per_capita_usd\" ]\n",
    "\n",
    "\n",
    "\n"
   ]
  },
  {
   "attachments": {},
   "cell_type": "markdown",
   "metadata": {},
   "source": [
    "<font size = \"5\">\n",
    "\n",
    "(d) Compute descriptive statistics for the fourth <br>\n",
    "variable in the dataset\n",
    "\n",
    "<font size = \"3\">\n",
    "\n",
    "- One way to do this is:\n",
    "\n",
    "wdi[\"gdp_per_capita_usd\"].describe()\n",
    "\n",
    "- Do something similar, but with the list you created above.\n",
    "- Substitute \"gdp_per_capita_usd\" with a command that <br>\n",
    "automatically extracts the fourth element in the list"
   ]
  },
  {
   "cell_type": "code",
   "execution_count": 14,
   "metadata": {},
   "outputs": [
    {
     "data": {
      "text/plain": [
       "count       255.000000\n",
       "mean      17230.949757\n",
       "std       25792.183785\n",
       "min         216.972968\n",
       "25%        2186.046581\n",
       "50%        6837.717826\n",
       "75%       19809.323135\n",
       "max      199377.481800\n",
       "Name: gdp_per_capita_usd, dtype: float64"
      ]
     },
     "execution_count": 14,
     "metadata": {},
     "output_type": "execute_result"
    }
   ],
   "source": [
    "# Write your own code\n",
    "\n",
    "# Remember that the numbering in Python starts at zero\n",
    "# For example:\n",
    "# list_colors = [\"red\",\"green\",\"yellow\"]\n",
    "# list_colors[2] will output \"yellow\"\n",
    "wdi[variable_names[3]].describe()\n",
    "\n",
    "\n"
   ]
  },
  {
   "attachments": {},
   "cell_type": "markdown",
   "metadata": {},
   "source": [
    "<font size = \"5\">\n",
    "\n",
    "(e) Show a scatter plot that shows \"gdp_per_capita_usd\" <br>\n",
    "in the x-axis and \"lifexpectancy\" in the y-axis. Label the axes."
   ]
  },
  {
   "cell_type": "code",
   "execution_count": 30,
   "metadata": {},
   "outputs": [
    {
     "data": {
      "text/plain": [
       "Text(0, 0.5, 'life expectancy')"
      ]
     },
     "execution_count": 30,
     "metadata": {},
     "output_type": "execute_result"
    },
    {
     "data": {
      "image/png": "[encoded data removed]",
      "text/plain": [
       "<Figure size 640x480 with 1 Axes>"
      ]
     },
     "metadata": {},
     "output_type": "display_data"
    }
   ],
   "source": [
    "# Write your own code\n",
    "plt.scatter(x = wdi[variable_names[3]], y = wdi[variable_names[2]])\n",
    "plt.xlabel('gdp_per_capita_usd')\n",
    "plt.ylabel('life expectancy')\n",
    "\n"
   ]
  },
  {
   "cell_type": "markdown",
   "metadata": {},
   "source": [
    "<font size = \"5\">\n",
    "\n",
    "(f) Generate \"vec_x\" from a chi-square <br>\n",
    "distribution with (df = 1, size = 1000)\n",
    "\n",
    "<font size = \"3\">\n",
    "\n",
    "- Plot a histogram of each variable, with axis labels, and title\n",
    "- Create a new variable \"vec_y\" by the formula <br>\n",
    "$ y = e^x + 2x + 5$\n",
    "- Plot \"vec_x\" against \"vec_y\" and label the axes"
   ]
  },
  {
   "cell_type": "code",
   "execution_count": 29,
   "metadata": {},
   "outputs": [
    {
     "data": {
      "text/plain": [
       "Text(0.5, 1.0, 'formula y=$e^x$+2x+5')"
      ]
     },
     "execution_count": 29,
     "metadata": {},
     "output_type": "execute_result"
    },
    {
     "data": {
      "image/png": "[encoded data removed]",
      "text/plain": [
       "<Figure size 640x480 with 1 Axes>"
      ]
     },
     "metadata": {},
     "output_type": "display_data"
    },
    {
     "data": {
      "image/png": "[encoded data removed]",
      "text/plain": [
       "<Figure size 640x480 with 1 Axes>"
      ]
     },
     "metadata": {},
     "output_type": "display_data"
    }
   ],
   "source": [
    "# Write your own code\n",
    "import numpy as np\n",
    "vec_x = np.random.chisquare(1, 1000)\n",
    "plt.figure()\n",
    "plt.hist(x=vec_x)\n",
    "plt.xlabel('vec_x')\n",
    "plt.title('chi-square distribution')\n",
    "vec_y = np.exp(vec_x)+2*vec_x+5\n",
    "plt.figure()\n",
    "plt.scatter(x = vec_x, y = vec_y)\n",
    "plt.xlabel('vec_x')\n",
    "plt.ylabel('vec_y')\n",
    "plt.title('formula y=$e^x$+2x+5')\n",
    "\n",
    "\n"
   ]
  },
  {
   "cell_type": "markdown",
   "metadata": {},
   "source": [
    "<font size = \"5\">\n",
    "\n",
    "(g) Research online how to create an array with <br>\n",
    "```size = 1000``` entries, with all entries equal to one.\n",
    "\n",
    "<font size = \"3\">\n",
    "\n",
    "- Create a new matrix, ```X_mat``` that appends a <br>\n",
    "vector with only ones and \"vec_x\" from question (f) to form <br>\n",
    "a matrix with two columns and 1000 rows\n",
    "- Compute $(X_{mat}'X_{mat})^{-1}$"
   ]
  },
  {
   "cell_type": "code",
   "execution_count": 35,
   "metadata": {},
   "outputs": [
    {
     "name": "stdout",
     "output_type": "stream",
     "text": [
      "[[-1.30647165e+14  3.90404035e+14  9.10573671e+11 ... -2.07208042e+14\n",
      "  -3.02482305e+14  1.84402980e+14]\n",
      " [-3.30731959e+14 -2.31762224e+15  2.46076656e+13 ...  9.40804100e+14\n",
      "   5.85692571e+14 -5.47908453e+14]\n",
      " [-3.73364976e+13  4.82458606e+14  4.89059125e+12 ...  1.62962344e+14\n",
      "  -3.04348281e+14  1.03577588e+14]\n",
      " ...\n",
      " [ 4.53485998e+14 -6.08963047e+13 -6.81671408e+12 ... -5.10095630e+14\n",
      "   6.80810637e+14 -1.86623758e+14]\n",
      " [-1.95398086e+14  6.41983924e+14  6.25251495e+13 ...  2.71686062e+14\n",
      "  -5.20990909e+14  2.17371677e+14]\n",
      " [ 5.78625609e+13 -5.69878805e+14 -5.16447404e+12 ... -2.95447762e+14\n",
      "   2.83802325e+14 -2.26133336e+14]]\n"
     ]
    }
   ],
   "source": [
    "# Write your own code\n",
    "one = np.ones(1000)\n",
    "X_mat = np.array([one,vec_x])\n",
    "X_mat\n",
    "X_mat_inverse = np.matrix.transpose(X_mat)\n",
    "answer = np.linalg.inv(np.dot(X_mat_inverse,X_mat))\n",
    "print(answer)\n",
    "\n",
    "\n",
    "\n",
    "\n",
    "\n"
   ]
  }
 ],
 "metadata": {
  "kernelspec": {
   "display_name": "Python 3",
   "language": "python",
   "name": "python3"
  },
  "language_info": {
   "codemirror_mode": {
    "name": "ipython",
    "version": 3
   },
   "file_extension": ".py",
   "mimetype": "text/x-python",
   "name": "python",
   "nbconvert_exporter": "python",
   "pygments_lexer": "ipython3",
   "version": "3.11.5"
  },
  "orig_nbformat": 4,
  "vscode": {
   "interpreter": {
    "hash": "aee8b7b246df8f9039afb4144a1f6fd8d2ca17a180786b69acc140d282b71a49"
   }
  }
 },
 "nbformat": 4,
 "nbformat_minor": 2
}
